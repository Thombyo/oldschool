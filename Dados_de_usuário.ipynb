{
  "nbformat": 4,
  "nbformat_minor": 0,
  "metadata": {
    "colab": {
      "provenance": []
    },
    "kernelspec": {
      "name": "python3",
      "display_name": "Python 3"
    },
    "language_info": {
      "name": "python"
    }
  },
  "cells": [
    {
      "cell_type": "code",
      "execution_count": 1,
      "metadata": {
        "id": "vRUcDpavBBEJ"
      },
      "outputs": [],
      "source": [
        "class Fila:\n",
        "    def __init__(self):\n",
        "        self.fila = []\n",
        "\n",
        "    def adicionar(self, usuario, senha):\n",
        "        self.fila.append([usuario, senha])\n",
        "        print(\"Usuário adicionado.\")\n",
        "\n",
        "    def login(self):\n",
        "        if len(self.fila) > 0:\n",
        "            usuario = self.fila.pop(0)\n",
        "            print(f\"Logando {usuario[0]} com a senha {usuario[1]}\")\n",
        "            return usuario\n",
        "        else:\n",
        "            print(\"Fila vazia.\")\n",
        "            return None\n",
        "\n",
        "    def mostrar(self):\n",
        "        if len(self.fila) > 0:\n",
        "            print(\"Usuários na fila:\")\n",
        "            for u in self.fila:\n",
        "                print(f\"Usuário: {u[0]}\")\n",
        "        else:\n",
        "            print(\"Fila vazia.\")"
      ]
    }
  ]
}