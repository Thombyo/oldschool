{
  "nbformat": 4,
  "nbformat_minor": 0,
  "metadata": {
    "colab": {
      "provenance": []
    },
    "kernelspec": {
      "name": "python3",
      "display_name": "Python 3"
    },
    "language_info": {
      "name": "python"
    }
  },
  "cells": [
    {
      "cell_type": "code",
      "execution_count": 15,
      "metadata": {
        "colab": {
          "base_uri": "https://localhost:8080/"
        },
        "id": "j7WySmRi97tb",
        "outputId": "bbcafb4a-f833-43e6-f0bf-7b8711b521e8"
      },
      "outputs": [
        {
          "output_type": "stream",
          "name": "stdout",
          "text": [
            "Digite '1' para adicionar e '2' para sair: 1\n",
            "adicione um jogo ao carrinho:cod\n",
            "cod adicionado ao carrinho.\n",
            "Digite '1' para adicionar e '2' para sair: 2\n",
            "Encerrado\n",
            "['cod']\n"
          ]
        }
      ],
      "source": [
        "carrinho = []\n",
        "while True:\n",
        "  acao = input(\"Digite '1' para adicionar e '2' para sair: \")\n",
        "  if acao == '1':\n",
        "    adicionar = input(\"adicione um jogo ao carrinho:\")\n",
        "    carrinho.append(adicionar)\n",
        "    print(f\"{adicionar} adicionado ao carrinho.\")\n",
        "  else:\n",
        "    print(\"Encerrado\")\n",
        "    print(carrinho)\n",
        "    break"
      ]
    }
  ]
}