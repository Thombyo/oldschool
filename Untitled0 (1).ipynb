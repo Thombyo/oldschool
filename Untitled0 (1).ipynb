{
  "nbformat": 4,
  "nbformat_minor": 0,
  "metadata": {
    "colab": {
      "provenance": []
    },
    "kernelspec": {
      "name": "python3",
      "display_name": "Python 3"
    },
    "language_info": {
      "name": "python"
    }
  },
  "cells": [
    {
      "source": [
        "import numpy as np\n",
        "\n",
        "produtos_array = np.array([\"Punch out\", \"The Legend of Zelda\", \"Pokémon red\", \"Pokémon blue\", \"Pokémon yellow\",  \"Pokémon Crystal\", \"Pokémon Gold\", \"Pokémon Silver\", \"Pokémon Green\", \"Super Mario Bros\", \"Doom\", \"Street Fighter\", \"Duck Hunt\", \"Excitebike\", \"Castlevania\", \"Pac-man\", \"Space invaders\", \"Galaga\", \"Donkey kong\", \"Detetive pikachu\"])\n",
        "\n",
        "\n",
        "def listar_produtos_array(array_produtos):\n",
        "    print(\"Produtos disponíveis:\")\n",
        "    for i, produto in enumerate(array_produtos):\n",
        "        print(f\"{i + 1}. {produto}\")\n",
        "\n",
        "listar_produtos_array(produtos_array)"
      ],
      "cell_type": "code",
      "metadata": {
        "colab": {
          "base_uri": "https://localhost:8080/"
        },
        "id": "MUGiKAYV94rc",
        "outputId": "d5076600-a425-48cb-826d-8c92bfa64927"
      },
      "execution_count": 2,
      "outputs": [
        {
          "output_type": "stream",
          "name": "stdout",
          "text": [
            "Produtos disponíveis:\n",
            "1. Punch out\n",
            "2. The Legend of Zelda\n",
            "3. Pokémon red\n",
            "4. Pokémon blue\n",
            "5. Pokémon yellow\n",
            "6. Pokémon Crystal\n",
            "7. Pokémon Gold\n",
            "8. Pokémon Silver\n",
            "9. Pokémon Green\n",
            "10. Super Mario Bros\n",
            "11. Doom\n",
            "12. Street Fighter\n",
            "13. Duck Hunt\n",
            "14. Excitebike\n",
            "15. Castlevania\n",
            "16. Pac-man\n",
            "17. Space invaders\n",
            "18. Galaga\n",
            "19. Donkey kong\n",
            "20. Detetive pikachu\n"
          ]
        }
      ]
    }
  ]
}