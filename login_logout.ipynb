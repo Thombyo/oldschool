{
  "nbformat": 4,
  "nbformat_minor": 0,
  "metadata": {
    "colab": {
      "provenance": []
    },
    "kernelspec": {
      "name": "python3",
      "display_name": "Python 3"
    },
    "language_info": {
      "name": "python"
    }
  },
  "cells": [
    {
      "source": [
        "from IPython import get_ipython\n",
        "from IPython.display import display\n",
        "login_stack = []\n",
        "\n",
        "def login(user):\n",
        "    login_stack.append(user)\n",
        "    print(f\"{user} fez login.\")\n",
        "\n",
        "def logout():\n",
        "    if login_stack:\n",
        "        user = login_stack.pop()\n",
        "        print(f\"{user} fez logout.\")\n",
        "    else:\n",
        "        print(\"Nenhum usuário logado.\")\n",
        "\n",
        "while True:\n",
        "    acao = input(\"Digite 'login' para login, 'logout' para logout, ou 'sair' para sair: \").lower()\n",
        "\n",
        "    if acao == 'login':\n",
        "        nome_usuario = input(\"Digite o nome do usuário para login: \")\n",
        "        login(nome_usuario)\n",
        "    elif acao == 'logout':\n",
        "        logout()\n",
        "    elif acao == 'sair':\n",
        "        print(\"Saindo do sistema.\")\n",
        "        break\n",
        "    else:\n",
        "        print(\"Comando inválido. Por favor, tente novamente.\")"
      ],
      "cell_type": "code",
      "metadata": {
        "colab": {
          "base_uri": "https://localhost:8080/"
        },
        "id": "MFj-RK4sBO2d",
        "outputId": "7724f8e8-7948-4ece-f304-2b679dc76d18"
      },
      "execution_count": 3,
      "outputs": [
        {
          "output_type": "stream",
          "name": "stdout",
          "text": [
            "Digite 'login' para fazer login, 'logout' para fazer logout, ou 'sair' para sair: login\n",
            "Digite o nome do usuário para login: Franfran\n",
            "Franfran fez login.\n",
            "Digite 'login' para fazer login, 'logout' para fazer logout, ou 'sair' para sair: logout\n",
            "Franfran fez logout.\n",
            "Digite 'login' para fazer login, 'logout' para fazer logout, ou 'sair' para sair: sair\n",
            "Saindo do sistema.\n"
          ]
        }
      ]
    }
  ]
}