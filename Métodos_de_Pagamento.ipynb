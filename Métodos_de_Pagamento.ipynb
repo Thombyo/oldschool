{
  "nbformat": 4,
  "nbformat_minor": 0,
  "metadata": {
    "colab": {
      "provenance": []
    },
    "kernelspec": {
      "name": "python3",
      "display_name": "Python 3"
    },
    "language_info": {
      "name": "python"
    }
  },
  "cells": [
    {
      "cell_type": "code",
      "execution_count": null,
      "metadata": {
        "id": "dX2SWesX_PuB"
      },
      "outputs": [],
      "source": [
        "metodos_pagamento = [\n",
        "    [\"Cartão de Crédito\", 5.0],\n",
        "    [\"Boleto\", 2.0],\n",
        "    [\"PIX\", 0.0]\n",
        "]\n",
        "\n",
        "def mostrar_metodos_pagamento():\n",
        "    print(\"Métodos de Pagamento:\")\n",
        "    for metodo in metodos_pagamento:\n",
        "      print(f\"{metodo[0]} - Taxa: {metodo[1]}%\")\n",
        "mostrar_metodos_pagamento()"
      ]
    }
  ]
}